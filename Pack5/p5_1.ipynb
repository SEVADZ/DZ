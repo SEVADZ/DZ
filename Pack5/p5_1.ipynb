{
 "cells": [
  {
   "cell_type": "markdown",
   "metadata": {},
   "source": [
    "Первый круг - T1 + T2 + T3, далее два случая:\n",
    "    - T1 > T3 => последующие круги T2 + T1, т.к. второму наркоману придется ждать пока наполнится шприц\n",
    "    - T1 <= T3 => последующие круги T2 + T3, т.к. первому наркоману придется ждать, пока второй вколит и возьмет наполненный шприц\n",
    "В итоге среднее: ((T1 + T2 + T3 ) + ( max(T1, T3) + T2) * (s - 1)) / s"
   ]
  },
  {
   "cell_type": "code",
   "execution_count": 30,
   "metadata": {},
   "outputs": [
    {
     "name": "stdout",
     "output_type": "stream",
     "text": [
      "Введите время t1 t2 t3\n",
      "5\n",
      "10\n",
      "15\n",
      "Введите количество кругов\n",
      "500\n",
      "25.01002004008016\n"
     ]
    }
   ],
   "source": [
    "def narc(x, t1, t2, t3):\n",
    "    l = 0\n",
    "    k = t1 + t2 + t3\n",
    "    for i in range(1, x):\n",
    "         if (t1 > t3):\n",
    "                k += t1 + t2\n",
    "         else:\n",
    "                k += t2 + t3\n",
    "    return k * 1.0 / x\n",
    "print(\"Введите время t1 t2 t3\")\n",
    "t1 = int(input())\n",
    "t2 = int(input())\n",
    "t3 = int(input())\n",
    "print(\"Введите количество кругов\")\n",
    "x = int(input())\n",
    "y = []\n",
    "x1 = []\n",
    "for i in range(1, x):\n",
    "    x1.append(i)\n",
    "    y.append(narc(i, t1, t2, t3))\n",
    "print(y[x - 2])\n"
   ]
  },
  {
   "cell_type": "code",
   "execution_count": 33,
   "metadata": {},
   "outputs": [
    {
     "data": {
      "text/plain": [
       "[<matplotlib.lines.Line2D at 0x7f85d405d0b8>]"
      ]
     },
     "execution_count": 33,
     "metadata": {},
     "output_type": "execute_result"
    },
    {
     "data": {
      "image/png": "[encoded data removed]",
      "text/plain": [
       "<matplotlib.figure.Figure at 0x7f85cdb13828>"
      ]
     },
     "metadata": {},
     "output_type": "display_data"
    }
   ],
   "source": [
    "import matplotlib.pyplot as plt\n",
    "import numpy as np\n",
    "%matplotlib inline\n",
    "plt.title('Зависимость среднего времени одного круга от их количества: ')\n",
    "plt.plot(x1, y, color = 'blue')"
   ]
  },
  {
   "cell_type": "code",
   "execution_count": null,
   "metadata": {},
   "outputs": [],
   "source": []
  }
 ],
 "metadata": {
  "kernelspec": {
   "display_name": "Python 3",
   "language": "python",
   "name": "python3"
  },
  "language_info": {
   "codemirror_mode": {
    "name": "ipython",
    "version": 3
   },
   "file_extension": ".py",
   "mimetype": "text/x-python",
   "name": "python",
   "nbconvert_exporter": "python",
   "pygments_lexer": "ipython3",
   "version": "3.5.2"
  }
 },
 "nbformat": 4,
 "nbformat_minor": 2
}
