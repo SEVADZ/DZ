{
 "cells": [
  {
   "cell_type": "code",
   "execution_count": null,
   "metadata": {},
   "outputs": [],
   "source": [
    "import math\n",
    "class analiz(list):\n",
    "\tdef __init__(self, y):\n",
    "\t\tself.cmax = [0, 0]\n",
    "\t\tself.cc = 0\n",
    "\t\tself.k = set(str(y))\n",
    "\tdef rez(self):\n",
    "\t\tl1 = str(self.cmax[1] // 10000000) + \".\" + str((self.cmax[1] // 1000) % 100) + \".\" + str((self.cmax[1] // 100000) % 100) + \".\" + str(self.cmax[1] % 1000)\n",
    "\t\tl2 = str(self.cmax[1] // 10000000) + \".\" + str((self.cmax[1] // 1000) % 100) + \".\" + str((self.cmax[1] // 100000) % 100 + 1) + \".\" + str(self.cmax[1] % 1000)\n",
    "\t\tprint(l1, \"to\", l2)\n",
    "\tdef ob(self, x):\n",
    "\t\t#self.k.add(x.ex)\n",
    "\t\tif(x.ex in self.k):\n",
    "\t\t\tself.append(x)\n",
    "\t\t\tself.cc += 1#x.kol\n",
    "\t\t\twhile (self[0].time + 1000 <= x.time):\n",
    "\t\t\t\tself.cc -= 1 #self[0].kol\n",
    "\t\t\t\tdel self[0]\n",
    "\t\t\tif (self.cc > self.cmax[0]):\n",
    "\t\t\t\tself.cmax[0] = int(self.cc)\n",
    "\t\t\t\tself.cmax[1] = int(self[0].time)\n",
    "\n",
    "class sdelka():\n",
    "\tdef __init__(self, line):\n",
    "\t\tl = line.split(\",\")\n",
    "\t\tself.line = line\n",
    "\t\tself.time = int(str(line[0:2]) + str(line[3:5]) + str(line[6:8]) + str(line[9:12]))\n",
    "\t\tself.cost = round(float(l[2]) * 100)\n",
    "\t\tself.ex = l[3][0]\n",
    "\t\tself.kol = int(l[2])\n",
    "print(\"ВВЕДИТЕ ВСЕ РАССМАТРИВАЕМЫЕ БИРЖИ ОДНОЙ СТРОКОЙ БЕЗ ПРОБЕЛОВ\")\n",
    "st = input()\n",
    "with open(\"TRD2.csv\") as f:\n",
    "\tl = analiz(st)\n",
    "\tf.readline()\n",
    "\tfor line in f.readlines():\n",
    "\t\tl.ob(sdelka(line))\n",
    "\tl.rez()"
   ]
  },
  {
   "cell_type": "code",
   "execution_count": 10,
   "metadata": {},
   "outputs": [
    {
     "ename": "SyntaxError",
     "evalue": "invalid syntax (<ipython-input-10-3434a235b1cc>, line 37)",
     "output_type": "error",
     "traceback": [
      "\u001b[0;36m  File \u001b[0;32m\"<ipython-input-10-3434a235b1cc>\"\u001b[0;36m, line \u001b[0;32m37\u001b[0m\n\u001b[0;31m    f.readline()4\u001b[0m\n\u001b[0m                ^\u001b[0m\n\u001b[0;31mSyntaxError\u001b[0m\u001b[0;31m:\u001b[0m invalid syntax\n"
     ]
    }
   ],
   "source": [
    "import math\n",
    "class analiz(list):\n",
    "\tdef __init__(self, y):\n",
    "\t\tself.cmax = [0, 0]\n",
    "\t\tself.cc = 0\n",
    "\t\tself.k = set(str(y))\n",
    "\tdef rez(self):\n",
    "\t\tl1 = str(self.cmax[1] // 10000000) + \".\" + str((self.cmax[1] // 1000) % 100) + \".\" + str((self.cmax[1] // 100000) % 100) + \".\" + str(self.cmax[1] % 1000)\n",
    "\t\tl2 = str(self.cmax[1] // 10000000) + \".\" + str((self.cmax[1] // 1000) % 100) + \".\" + str((self.cmax[1] // 100000) % 100 + 1) + \".\" + str(self.cmax[1] % 1000)\n",
    "\t\tprint(l1, \"to\", l2)\n",
    "\tdef ob(self, x):\n",
    "\t\t#self.k.add(x.ex)\n",
    "\t\tif(x.ex in self.k):\n",
    "\t\t\tself.append(x)\n",
    "\t\t\tself.cc += 1#x.kol\n",
    "\t\t\twhile (self[0].time + 1000 <= x.time):\n",
    "\t\t\t\tself.cc -= 1 #self[0].kol\n",
    "\t\t\t\tdel self[0]\n",
    "\t\t\tif (self.cc > self.cmax[0]):\n",
    "\t\t\t\tself.cmax[0] = int(self.cc)\n",
    "\t\t\t\tself.cmax[1] = int(self[0].time)\n",
    "\n",
    "class sdelka():\n",
    "\tdef __init__(self, line):\n",
    "\t\tl = line.split(\",\")\n",
    "\t\tself.line = line\n",
    "\t\tself.time = int(str(line[0:2]) + str(line[3:5]) + str(line[6:8]) + str(line[9:12]))\n",
    "\t\tself.cost = round(float(l[2]) * 100)\n",
    "\t\tself.ex = l[3][0]\n",
    "\t\tself.kol = int(l[2])\n",
    "print(\"ВВЕДИТЕ ВСЕ РАССМАТРИВАЕМЫЕ БИРЖИ ОДНОЙ СТРОКОЙ БЕЗ ПРОБЕЛОВ (в данной задаче есть такие биржы: V, D, X, Y, B, J, Q, Z, K, P)\")\n",
    "st = input()\n",
    "import time\n",
    "k = time.time()\n",
    "with open(\"TRD2.csv\") as f:\n",
    "\tl = analiz(st)\n",
    "\tf.readline()4\n",
    "\tfor line in f.readlines():\n",
    "\t\tl.ob(sdelka(line))\n",
    "\tl.rez()\n",
    "print(time.time() - k)"
   ]
  },
  {
   "cell_type": "markdown",
   "metadata": {},
   "source": [
    "Программа делает один проход по файлу и выполняет все за O(n), но важно чтобы сам файл был отсортирован по времени, иначе придется выполять сортировку, предположительно самая быстрая займет O(log2(n)) => O(log2(n)) при несортированном и O(n) при сортированном "
   ]
  },
  {
   "cell_type": "code",
   "execution_count": null,
   "metadata": {},
   "outputs": [],
   "source": []
  },
  {
   "cell_type": "code",
   "execution_count": null,
   "metadata": {},
   "outputs": [],
   "source": []
  }
 ],
 "metadata": {
  "kernelspec": {
   "display_name": "Python 3",
   "language": "python",
   "name": "python3"
  }
 },
 "nbformat": 4,
 "nbformat_minor": 2
}
